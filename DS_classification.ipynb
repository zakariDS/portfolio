{
 "cells": [
  {
   "cell_type": "markdown",
   "id": "027c2142",
   "metadata": {},
   "source": [
    "# Classification Report on Traffic Congestion\n",
    "- Logistic Regression\n",
    "- KNN\n",
    "- SVM\n",
    "- Decision Trees"
   ]
  },
  {
   "cell_type": "code",
   "execution_count": 1,
   "id": "96f6ebf6",
   "metadata": {},
   "outputs": [],
   "source": [
    "import pandas as pd\n",
    "import numpy as np\n",
    "import matplotlib.pyplot as plt\n",
    "import plotly.express as px\n",
    "from sklearn import preprocessing\n",
    "from sklearn.model_selection import train_test_split\n",
    "from sklearn.model_selection import RepeatedStratifiedKFold\n",
    "from sklearn.model_selection import GridSearchCV\n",
    "from sklearn.linear_model import LogisticRegression\n",
    "from sklearn.neighbors import KNeighborsClassifier\n",
    "from sklearn import svm\n",
    "from sklearn.ensemble import BaggingClassifier\n",
    "from sklearn.metrics import jaccard_score\n",
    "from sklearn.metrics import f1_score\n",
    "from sklearn.metrics import log_loss"
   ]
  },
  {
   "cell_type": "code",
   "execution_count": 2,
   "id": "fea3a463",
   "metadata": {},
   "outputs": [],
   "source": [
    "df=pd.read_csv(\"freeway_i64.csv\")\n",
    "df=df.sample(frac=0.1, replace=True, random_state=1)"
   ]
  },
  {
   "cell_type": "code",
   "execution_count": 3,
   "id": "aa8fa009",
   "metadata": {},
   "outputs": [
    {
     "data": {
      "text/plain": [
       "(15376, 7)"
      ]
     },
     "execution_count": 3,
     "metadata": {},
     "output_type": "execute_result"
    }
   ],
   "source": [
    "df.shape"
   ]
  },
  {
   "cell_type": "markdown",
   "id": "d9a02cb5",
   "metadata": {},
   "source": [
    "# Import and Pre-process data"
   ]
  },
  {
   "cell_type": "code",
   "execution_count": 4,
   "id": "fb66c4b5",
   "metadata": {},
   "outputs": [
    {
     "name": "stdout",
     "output_type": "stream",
     "text": [
      "Train set: (12300, 6) (12300,)\n",
      "Test set: (3076, 6) (3076,)\n"
     ]
    }
   ],
   "source": [
    "import pandas as pd\n",
    "#df=pd.read_csv(\"freeway_i64.csv\")\n",
    "#df = df[['sd','bt','bti','pt','pti','tt','tti']]\n",
    "\n",
    "#create congested category\n",
    "df['tti'] = ['Congested' if x >=1.2 else 'Not Congested' for x in df['tti']]\n",
    "#df.tti = df.tti.astype(int)\n",
    "# define features and label\n",
    "features = ['sd','bt','bti','pt','pti','tt']\n",
    "label='tti'\n",
    "\n",
    "X,y = df[features].values,df[label].values\n",
    "\n",
    "#transform features\n",
    "X = preprocessing.StandardScaler().fit(X).transform(X)\n",
    "\n",
    "# split \n",
    "X_train, X_test, y_train, y_test = train_test_split(X, y, test_size=0.2, random_state=2)\n",
    "print ('Train set:', X_train.shape,  y_train.shape)\n",
    "print ('Test set:', X_test.shape,  y_test.shape)"
   ]
  },
  {
   "cell_type": "code",
   "execution_count": 5,
   "id": "fbee770e",
   "metadata": {},
   "outputs": [
    {
     "data": {
      "text/plain": [
       "tti\n",
       "Congested        11313\n",
       "Not Congested     4063\n",
       "dtype: int64"
      ]
     },
     "execution_count": 5,
     "metadata": {},
     "output_type": "execute_result"
    }
   ],
   "source": [
    "df.value_counts('tti')"
   ]
  },
  {
   "cell_type": "markdown",
   "id": "ed0faa51",
   "metadata": {},
   "source": [
    "# Binary Logistic Regression"
   ]
  },
  {
   "cell_type": "code",
   "execution_count": 6,
   "id": "92d59865",
   "metadata": {},
   "outputs": [],
   "source": [
    "#LOGISTIC\n",
    "\n",
    "# define models and parameters\n",
    "model = LogisticRegression()\n",
    "solvers = ['newton-cg', 'lbfgs', 'liblinear']\n",
    "penalty = ['l2']\n",
    "c_values = [100, 10, 1.0, 0.1, 0.01]\n",
    "\n",
    "# define grid search\n",
    "grid = dict(solver=solvers,penalty=penalty,C=c_values)\n",
    "cv = RepeatedStratifiedKFold(n_splits=10, n_repeats=3, random_state=1)\n",
    "grid_search = GridSearchCV(estimator=model, param_grid=grid, n_jobs=-1, cv=cv, scoring='accuracy',error_score=0)\n",
    "logreg = grid_search.fit(X_train, y_train)\n",
    "\n",
    "#predict test set\n",
    "LR_yhat = logreg.predict(X_test)\n",
    "LR_yhat_prob = logreg.predict_proba(X_test)\n",
    "\n",
    "#metrics\n",
    "lr_acc = logreg.best_score_*100\n",
    "lr_js  = jaccard_score(y_test, LR_yhat,pos_label = \"Congested\")*100\n",
    "lr_fs  = f1_score(y_test, LR_yhat, average='weighted')*100"
   ]
  },
  {
   "cell_type": "markdown",
   "id": "9ebc14c2",
   "metadata": {},
   "source": [
    "# K-Nearest Neighbor(KNN)"
   ]
  },
  {
   "cell_type": "code",
   "execution_count": 7,
   "id": "b6852320",
   "metadata": {},
   "outputs": [],
   "source": [
    "# define models and parameters\n",
    "model = KNeighborsClassifier()\n",
    "n_neighbors = range(1, 21, 2)\n",
    "weights = ['uniform', 'distance']\n",
    "metric = ['euclidean', 'manhattan', 'minkowski']\n",
    "\n",
    "# define grid search\n",
    "grid = dict(n_neighbors=n_neighbors,weights=weights,metric=metric)\n",
    "cv = RepeatedStratifiedKFold(n_splits=10, n_repeats=3, random_state=1)\n",
    "grid_search = GridSearchCV(estimator=model, param_grid=grid, n_jobs=-1, cv=cv, scoring='accuracy',error_score=0)\n",
    "knnmod = grid_search.fit(X_train, y_train)\n",
    "\n",
    "#predict test set\n",
    "knn_yhat = knnmod.predict(X_test)\n",
    "\n",
    "#metrics\n",
    "knn_acc = knnmod.best_score_*100\n",
    "knn_js  = jaccard_score(y_test, knn_yhat,pos_label = \"Congested\")*100\n",
    "knn_fs  = f1_score(y_test, knn_yhat, average='weighted')*100"
   ]
  },
  {
   "cell_type": "markdown",
   "id": "6af38a6a",
   "metadata": {},
   "source": [
    "# Support Vector Machines"
   ]
  },
  {
   "cell_type": "code",
   "execution_count": null,
   "id": "1530d6ad",
   "metadata": {},
   "outputs": [],
   "source": [
    "# define model and parameters\n",
    "model = svm.SVC()\n",
    "kernel = ['poly', 'rbf', 'sigmoid']\n",
    "C = [50, 10, 1.0, 0.1, 0.01]\n",
    "gamma = ['scale']\n",
    "\n",
    "# define grid search\n",
    "grid = dict(kernel=kernel,C=C,gamma=gamma)\n",
    "cv = RepeatedStratifiedKFold(n_splits=10, n_repeats=3, random_state=1)\n",
    "grid_search = GridSearchCV(estimator=model, param_grid=grid, n_jobs=-1, cv=cv, scoring='accuracy',error_score=0)\n",
    "svmmod = grid_search.fit(X_train, y_train)\n",
    "\n",
    "#predict test set\n",
    "svm_yhat = svmmod.predict(X_test)\n",
    "\n",
    "#metrics\n",
    "svm_acc = svmmod.best_score_*100\n",
    "svm_js  = jaccard_score(y_test, svm_yhat,pos_label = \"Congested\")*100\n",
    "svm_fs  = f1_score(y_test, svm_yhat, average='weighted')*100"
   ]
  },
  {
   "cell_type": "markdown",
   "id": "70af278d",
   "metadata": {},
   "source": [
    "# Bagged Decision Trees"
   ]
  },
  {
   "cell_type": "code",
   "execution_count": null,
   "id": "901817fa",
   "metadata": {},
   "outputs": [],
   "source": [
    "# define models and parameters\n",
    "model = BaggingClassifier()\n",
    "n_estimators = [10, 100, 1000]\n",
    "\n",
    "# define grid search\n",
    "grid = dict(n_estimators=n_estimators)\n",
    "cv = RepeatedStratifiedKFold(n_splits=10, n_repeats=3, random_state=1)\n",
    "grid_search = GridSearchCV(estimator=model, param_grid=grid, n_jobs=-1, cv=cv, scoring='accuracy',error_score=0)\n",
    "dtmod = grid_search.fit(X_train, y_train)\n",
    "\n",
    "#predict test set\n",
    "dt_yhat = dtmod.predict(X_test)\n",
    "\n",
    "#metrics\n",
    "dt_acc = dtmod.best_score_*100\n",
    "dt_js  = jaccard_score(y_test, dt_yhat,pos_label = \"Congested\")*100\n",
    "dt_fs  = f1_score(y_test, dt_yhat, average='weighted')*100"
   ]
  },
  {
   "cell_type": "markdown",
   "id": "1c4d8a23",
   "metadata": {},
   "source": [
    "# Plot Performance Metrics"
   ]
  },
  {
   "cell_type": "code",
   "execution_count": null,
   "id": "dcf1a874",
   "metadata": {},
   "outputs": [],
   "source": [
    "#create df for plotting metrics\n",
    "df = {'Algorithm': ['KNN','Decision Tree','SVM','Logistic'],\n",
    "        'Accuracy' : [knn_acc,dt_acc,svm_acc,lr_acc],\n",
    "        'Jaccard'  : [knn_js,dt_js,svm_js,lr_js],\n",
    "        'F1_Score' : [knn_fs,dt_fs,svm_fs,lr_fs]}\n",
    "df=pd.DataFrame.from_dict(df)\n",
    "df=pd.melt(df, id_vars='Algorithm', value_vars=['Accuracy', 'Jaccard', 'F1_Score'])\n",
    "\n",
    "fig = px.bar(df, x=\"Algorithm\", y=\"value\",color='variable', barmode='group',height=400)\n",
    "fig.show()"
   ]
  },
  {
   "cell_type": "code",
   "execution_count": null,
   "id": "95427ec0",
   "metadata": {},
   "outputs": [],
   "source": [
    "#best model confusion matrix= Logistic\n",
    "from sklearn.metrics import confusion_matrix, ConfusionMatrixDisplay\n",
    "\n",
    "cm = confusion_matrix(y_test, LR_yhat, labels=logreg.classes_)\n",
    "disp = ConfusionMatrixDisplay(confusion_matrix=cm,display_labels=logreg.classes_)\n",
    "disp.plot()\n",
    "plt.show()"
   ]
  },
  {
   "cell_type": "code",
   "execution_count": null,
   "id": "1420402a",
   "metadata": {},
   "outputs": [],
   "source": []
  }
 ],
 "metadata": {
  "kernelspec": {
   "display_name": "Python 3",
   "language": "python",
   "name": "python3"
  },
  "language_info": {
   "codemirror_mode": {
    "name": "ipython",
    "version": 3
   },
   "file_extension": ".py",
   "mimetype": "text/x-python",
   "name": "python",
   "nbconvert_exporter": "python",
   "pygments_lexer": "ipython3",
   "version": "3.8.8"
  }
 },
 "nbformat": 4,
 "nbformat_minor": 5
}
