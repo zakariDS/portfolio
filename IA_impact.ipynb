{
 "cells": [
  {
   "cell_type": "code",
   "execution_count": 2,
   "id": "b34012bc",
   "metadata": {},
   "outputs": [
    {
     "name": "stdout",
     "output_type": "stream",
     "text": [
      "WARNING:tensorflow:@custom_gradient grad_fn has 'variables' in signature, but no ResourceVariables were used on the forward pass.\n",
      "WARNING:tensorflow:@custom_gradient grad_fn has 'variables' in signature, but no ResourceVariables were used on the forward pass.\n",
      "WARNING:tensorflow:@custom_gradient grad_fn has 'variables' in signature, but no ResourceVariables were used on the forward pass.\n",
      "WARNING:tensorflow:@custom_gradient grad_fn has 'variables' in signature, but no ResourceVariables were used on the forward pass.\n",
      "WARNING:tensorflow:From C:\\Users\\zmumuni\\python\\Anaconda3\\lib\\site-packages\\tensorflow\\python\\autograph\\impl\\api.py:464: StructuralTimeSeries.joint_log_prob (from tensorflow_probability.python.sts.structural_time_series) is deprecated and will be removed after 2022-03-01.\n",
      "Instructions for updating:\n",
      "Please use `StructuralTimeSeries.joint_distribution(observed_time_series).log_prob`\n",
      "WARNING:tensorflow:@custom_gradient grad_fn has 'variables' in signature, but no ResourceVariables were used on the forward pass.\n",
      "WARNING:tensorflow:@custom_gradient grad_fn has 'variables' in signature, but no ResourceVariables were used on the forward pass.\n",
      "WARNING:tensorflow:@custom_gradient grad_fn has 'variables' in signature, but no ResourceVariables were used on the forward pass.\n",
      "WARNING:tensorflow:@custom_gradient grad_fn has 'variables' in signature, but no ResourceVariables were used on the forward pass.\n",
      "WARNING:tensorflow:@custom_gradient grad_fn has 'variables' in signature, but no ResourceVariables were used on the forward pass.\n",
      "WARNING:tensorflow:@custom_gradient grad_fn has 'variables' in signature, but no ResourceVariables were used on the forward pass.\n",
      "WARNING:tensorflow:@custom_gradient grad_fn has 'variables' in signature, but no ResourceVariables were used on the forward pass.\n",
      "WARNING:tensorflow:@custom_gradient grad_fn has 'variables' in signature, but no ResourceVariables were used on the forward pass.\n",
      "WARNING:tensorflow:From C:\\Users\\zmumuni\\python\\Anaconda3\\lib\\site-packages\\tensorflow\\python\\ops\\linalg\\linear_operator_block_diag.py:238: LinearOperator.graph_parents (from tensorflow.python.ops.linalg.linear_operator) is deprecated and will be removed in a future version.\n",
      "Instructions for updating:\n",
      "Do not call `graph_parents`.\n",
      "WARNING:tensorflow:@custom_gradient grad_fn has 'variables' in signature, but no ResourceVariables were used on the forward pass.\n",
      "WARNING:tensorflow:@custom_gradient grad_fn has 'variables' in signature, but no ResourceVariables were used on the forward pass.\n",
      "WARNING:tensorflow:@custom_gradient grad_fn has 'variables' in signature, but no ResourceVariables were used on the forward pass.\n",
      "WARNING:tensorflow:@custom_gradient grad_fn has 'variables' in signature, but no ResourceVariables were used on the forward pass.\n",
      "WARNING:tensorflow:From C:\\Users\\zmumuni\\python\\Anaconda3\\lib\\site-packages\\causalimpact\\model.py:408: calling one_step_predictive (from tensorflow_probability.python.sts.forecast) with timesteps_are_event_shape=True is deprecated and will be removed after 2021-12-31.\n",
      "Instructions for updating:\n",
      "`Predictive distributions returned by`tfp.sts.one_step_predictive` will soon compute per-timestep probabilities (treating timesteps as part of the batch shape) instead of a single probability for an entire series (the current approach, in which timesteps are treated as event shape). Please update your code to pass `timesteps_are_event_shape=False` (this will soon be the default) and to explicitly sum over the per-timestep log probabilities if this is required.\n",
      "WARNING:tensorflow:From C:\\Users\\zmumuni\\python\\Anaconda3\\lib\\site-packages\\tensorflow_probability\\python\\distributions\\distribution.py:345: MultivariateNormalFullCovariance.__init__ (from tensorflow_probability.python.distributions.mvn_full_covariance) is deprecated and will be removed after 2019-12-01.\n",
      "Instructions for updating:\n",
      "`MultivariateNormalFullCovariance` is deprecated, use `MultivariateNormalTriL(loc=loc, scale_tril=tf.linalg.cholesky(covariance_matrix))` instead.\n"
     ]
    }
   ],
   "source": [
    "import pandas as pd\n",
    "#data\n",
    "i44v17=pd.read_csv(\"i44-all.csv\")\n",
    "i44v17['rd'] = 'i44'\n",
    "\n",
    "i44v18=pd.read_csv(\"i44v18.csv\")\n",
    "i44v18['rd'] = 'i44'\n",
    "\n",
    "i44v19=pd.read_csv(\"i44v19.csv\")\n",
    "i44v19['rd'] = 'i44'\n",
    "\n",
    "#append the DFs\n",
    "i44 = pd.concat([i44v17,i44v18,i44v19], ignore_index=True, sort=False)\n",
    "\n",
    "#select weekdays\n",
    "i44['measurement_tstamp'] = pd.to_datetime(i44['measurement_tstamp'])\n",
    "\n",
    "i44['dayofweek'] = i44['measurement_tstamp'].dt.dayofweek\n",
    "i44['weekday']= i44['dayofweek'].apply(lambda x: 1 if (x<5)  else 0)\n",
    "i44=i44.loc[i44['weekday'] == 1]\n",
    "\n",
    "#aggregate \n",
    "i44 = (i44.groupby([pd.Grouper(key='measurement_tstamp', freq='d')])\n",
    "          .agg({'speed':'mean', 'reference_speed':'mean'}))\n",
    "i44=i44.reset_index()\n",
    "\n",
    "#create speed index\n",
    "i44['speed_index'] = i44['speed']/i44['reference_speed']\n",
    "#i44 = i44.dropna()\n",
    "# i44v1=i44['speed'].fillna((i44['speed'].mean()), inplace=True)\n",
    "# i44v1=i44['reference_speed'].fillna((i44['reference_speed'].mean()), inplace=True)\n",
    "# i44v1=i44['speed_index'].fillna((i44['speed_index'].mean()), inplace=True)\n",
    "i44['speed'] = i44['speed'].fillna((i44['speed'].mean()))\n",
    "i44['reference_speed'] = i44['reference_speed'].fillna((i44['reference_speed'].mean()))\n",
    "i44['speed_index'] = i44['speed_index'].fillna((i44['speed_index'].mean()))\n",
    "\n",
    "#examine pre and post intervention periods\n",
    "t1= i44.loc[(i44['measurement_tstamp'] == '2018-03-01')]\n",
    "t2= i44.loc[(i44['measurement_tstamp'] == '2018-12-31')]\n",
    "t1,t2\n",
    "#2341,2646\n",
    "\n",
    "i44 = i44[['speed_index','speed']]\n",
    "i44 = i44.rename(columns = {'speed_index': 'y','speed':'x'})\n",
    "\n",
    "pre_period = [0, 2341]\n",
    "post_period = [2342, 2646]\n",
    "\n",
    "i44.iloc[2342:, 0] += 5\n",
    "\n",
    "from causalimpact import CausalImpact\n",
    "ci = CausalImpact(i44, pre_period, post_period)"
   ]
  },
  {
   "cell_type": "code",
   "execution_count": 3,
   "id": "32732dab",
   "metadata": {},
   "outputs": [
    {
     "data": {
      "image/png": "[encoded data removed]",
      "text/plain": [
       "<Figure size 720x504 with 3 Axes>"
      ]
     },
     "metadata": {
      "needs_background": "light"
     },
     "output_type": "display_data"
    }
   ],
   "source": [
    "ci.plot()"
   ]
  },
  {
   "cell_type": "code",
   "execution_count": 4,
   "id": "086f1b2d",
   "metadata": {},
   "outputs": [
    {
     "name": "stdout",
     "output_type": "stream",
     "text": [
      "Posterior Inference {Causal Impact}\n",
      "                          Average            Cumulative\n",
      "Actual                    5.87               1789.11\n",
      "Prediction (s.d.)         0.86 (0.0)         262.56 (1.14)\n",
      "95% CI                    [0.85, 0.87]       [260.14, 264.61]\n",
      "\n",
      "Absolute effect (s.d.)    5.01 (0.0)         1526.55 (1.14)\n",
      "95% CI                    [5.0, 5.01]        [1524.49, 1528.96]\n",
      "\n",
      "Relative effect (s.d.)    581.41% (0.43%)    581.41% (0.43%)\n",
      "95% CI                    [580.62%, 582.33%] [580.62%, 582.33%]\n",
      "\n",
      "Posterior tail-area probability p: 0.0\n",
      "Posterior prob. of a causal effect: 100.0%\n",
      "\n",
      "For more details run the command: print(impact.summary('report'))\n"
     ]
    }
   ],
   "source": [
    "print(ci.summary())"
   ]
  },
  {
   "cell_type": "code",
   "execution_count": 5,
   "id": "6b087903",
   "metadata": {},
   "outputs": [
    {
     "name": "stdout",
     "output_type": "stream",
     "text": [
      "Analysis report {CausalImpact}\n",
      "\n",
      "\n",
      "During the post-intervention period, the response variable had\n",
      "an average value of approx. 5.87. By contrast, in the absence of an\n",
      "intervention, we would have expected an average response of 0.86.\n",
      "The 95% interval of this counterfactual prediction is [0.85, 0.87].\n",
      "Subtracting this prediction from the observed response yields\n",
      "an estimate of the causal effect the intervention had on the\n",
      "response variable. This effect is 5.01 with a 95% interval of\n",
      "[5.0, 5.01]. For a discussion of the significance of this effect,\n",
      "see below.\n",
      "\n",
      "\n",
      "Summing up the individual data points during the post-intervention\n",
      "period (which can only sometimes be meaningfully interpreted), the\n",
      "response variable had an overall value of 1789.11.\n",
      "By contrast, had the intervention not taken place, we would have expected\n",
      "a sum of 262.56. The 95% interval of this prediction is [260.14, 264.61].\n",
      "\n",
      "\n",
      "The above results are given in terms of absolute numbers. In relative\n",
      "terms, the response variable showed an increase of +581.41%. The 95%\n",
      "interval of this percentage is [580.62%, 582.33%].\n",
      "\n",
      "\n",
      "This means that the positive effect observed during the intervention\n",
      "period is statistically significant and unlikely to be due to random\n",
      "fluctuations. It should be noted, however, that the question of whether\n",
      "this increase also bears substantive significance can only be answered\n",
      "by comparing the absolute effect (5.01) to the original goal\n",
      "of the underlying intervention.\n",
      "\n",
      "\n",
      "The probability of obtaining this effect by chance is very small\n",
      "(Bayesian one-sided tail-area probability p = 0.0).\n",
      "This means the causal effect can be considered statistically\n",
      "significant.\n"
     ]
    }
   ],
   "source": [
    "print(ci.summary(output='report'))"
   ]
  },
  {
   "cell_type": "code",
   "execution_count": null,
   "id": "d14d76c4",
   "metadata": {},
   "outputs": [],
   "source": []
  }
 ],
 "metadata": {
  "kernelspec": {
   "display_name": "Python 3",
   "language": "python",
   "name": "python3"
  },
  "language_info": {
   "codemirror_mode": {
    "name": "ipython",
    "version": 3
   },
   "file_extension": ".py",
   "mimetype": "text/x-python",
   "name": "python",
   "nbconvert_exporter": "python",
   "pygments_lexer": "ipython3",
   "version": "3.8.8"
  }
 },
 "nbformat": 4,
 "nbformat_minor": 5
}
